{
 "cells": [
  {
   "cell_type": "markdown",
   "metadata": {},
   "source": [
    "Haga un programa que lea 2 números, detecte el menor, e imprima todos los números\n",
    "desde el menor hasta el mayor de ambos"
   ]
  },
  {
   "cell_type": "code",
   "execution_count": 18,
   "metadata": {},
   "outputs": [
    {
     "name": "stdout",
     "output_type": "stream",
     "text": [
      "30\n",
      "31\n",
      "32\n",
      "33\n",
      "34\n",
      "35\n",
      "36\n",
      "37\n",
      "38\n",
      "39\n",
      "40\n",
      "41\n",
      "42\n",
      "43\n",
      "44\n",
      "45\n",
      "46\n",
      "47\n",
      "48\n",
      "49\n",
      "50\n"
     ]
    }
   ],
   "source": [
    "numero_1 = int(input(\"Digite el primer numero\"))\n",
    "numero_2 = int(input(\"Digite el segundo numero\"))\n",
    "\n",
    "if numero_1 <= numero_2:\n",
    "    menor = numero_1\n",
    "    mayor = numero_2\n",
    "else:\n",
    "    menor = numero_2\n",
    "    mayor = numero_1\n",
    "\n",
    "temporal = menor\n",
    "while temporal <= mayor:\n",
    "    print(temporal)\n",
    "    temporal += 1"
   ]
  },
  {
   "cell_type": "markdown",
   "metadata": {},
   "source": [
    "Haga un programa que lea un número y calcule la suma de todos los números PARES\n",
    "entre 0 y él."
   ]
  },
  {
   "cell_type": "code",
   "execution_count": 53,
   "metadata": {},
   "outputs": [
    {
     "name": "stdout",
     "output_type": "stream",
     "text": [
      "12\n"
     ]
    }
   ],
   "source": [
    "numero_1 = int(input('Digite un numero entero'))\n",
    "\n",
    "contador = 0 \n",
    "suma_pares = 0\n",
    "\n",
    "while contador <= numero_1:\n",
    "    #print(contador)\n",
    "    if contador%2 == 0:\n",
    "        suma_pares += contador\n",
    "    contador+=1\n",
    "\n",
    "print(suma_pares)"
   ]
  },
  {
   "cell_type": "markdown",
   "metadata": {},
   "source": [
    "Haga un número que lea varios números, se detiene cuando lee un cero, e imprima\n",
    "cuantos números leyó"
   ]
  },
  {
   "cell_type": "code",
   "execution_count": 14,
   "metadata": {},
   "outputs": [
    {
     "name": "stdout",
     "output_type": "stream",
     "text": [
      "6\n"
     ]
    }
   ],
   "source": [
    "contador = -1\n",
    "numero = 1\n",
    "\n",
    "while numero != 0:\n",
    "    numero = int(input('Digite un numero'))\n",
    "    contador+= 1 \n",
    "print(contador)"
   ]
  },
  {
   "cell_type": "code",
   "execution_count": 9,
   "metadata": {},
   "outputs": [
    {
     "name": "stdout",
     "output_type": "stream",
     "text": [
      "4\n"
     ]
    }
   ],
   "source": [
    "es_cero = False\n",
    "contador = 0\n",
    "while es_cero == False:\n",
    "    numero = int(input('Digite un numero'))\n",
    "    \n",
    "    if numero == 0:\n",
    "        es_cero = True\n",
    "\n",
    "    contador += 1\n",
    "print(contador-1)"
   ]
  },
  {
   "cell_type": "markdown",
   "metadata": {},
   "source": [
    "Haga un programa que lea varios números, se detiene cuando lee un cero e imprime el\n",
    "PROMEDIO de los números que leyó"
   ]
  },
  {
   "cell_type": "code",
   "execution_count": 20,
   "metadata": {},
   "outputs": [
    {
     "name": "stdout",
     "output_type": "stream",
     "text": [
      "5.5\n"
     ]
    }
   ],
   "source": [
    "contador = -1\n",
    "numero = 1\n",
    "suma = 0 \n",
    "\n",
    "while numero != 0:\n",
    "    numero = int(input('Digite un numero: '))\n",
    "    suma += numero\n",
    "    contador+= 1 \n",
    "promedio = suma/contador \n",
    "print(promedio)"
   ]
  },
  {
   "cell_type": "markdown",
   "metadata": {},
   "source": [
    "Haga un programa que lea un número e imprima:\n",
    "a. Si el número es par, calcula numero / 2 e imprime el valor resultante.\n",
    "b. Si el número es impar, calcular (número * 3) + 1, e imprime el valor resultando.\n",
    "c. Evalúa el resultado de la operación.\n",
    "d. EL PROBLEMA DEBE DETENERSE CUANDO EL RESULTADO DE LA\n",
    "OPERACIÓN SEA 1"
   ]
  },
  {
   "cell_type": "code",
   "execution_count": 13,
   "metadata": {},
   "outputs": [
    {
     "name": "stdout",
     "output_type": "stream",
     "text": [
      "15.0\n",
      "46.0\n",
      "23.0\n",
      "70.0\n",
      "35.0\n",
      "106.0\n",
      "53.0\n",
      "160.0\n",
      "80.0\n",
      "40.0\n",
      "20.0\n",
      "10.0\n",
      "5.0\n",
      "16.0\n",
      "8.0\n",
      "4.0\n",
      "2.0\n",
      "1.0\n"
     ]
    }
   ],
   "source": [
    "numero = int(input(\"Digite un numero: \"))\n",
    "\n",
    "contador = 0 \n",
    "resultado = 0\n",
    "\n",
    "while resultado != 1:\n",
    "    if numero%2 == 0:\n",
    "        resultado = numero/2\n",
    "    else:\n",
    "        resultado = (numero*3) + 1\n",
    "    print(resultado)\n",
    "    numero = resultado\n"
   ]
  },
  {
   "cell_type": "markdown",
   "metadata": {},
   "source": [
    "1.\tEscriba un programa que lea un número e imprima los números naturales en orden descendente usando un ciclo while desde el número dado hasta 0."
   ]
  },
  {
   "cell_type": "code",
   "execution_count": 3,
   "metadata": {},
   "outputs": [
    {
     "name": "stdout",
     "output_type": "stream",
     "text": [
      "5\n",
      "4\n",
      "3\n",
      "2\n",
      "1\n",
      "0\n"
     ]
    }
   ],
   "source": [
    "numero = int(input(\"Digite un numero natural\"))\n",
    "\n",
    "contador = -1\n",
    "\n",
    "while numero >= 0: \n",
    "\n",
    "    print(numero)\n",
    "\n",
    "    numero = numero -1\n",
    "\n"
   ]
  },
  {
   "cell_type": "markdown",
   "metadata": {},
   "source": [
    "2.\tEscriba un programa en Python para imprimir el cuadrado de todos los números del 0 al 10"
   ]
  },
  {
   "cell_type": "code",
   "execution_count": 5,
   "metadata": {},
   "outputs": [
    {
     "name": "stdout",
     "output_type": "stream",
     "text": [
      "0\n",
      "1\n",
      "4\n",
      "9\n",
      "16\n",
      "25\n",
      "36\n",
      "49\n",
      "64\n",
      "81\n",
      "100\n"
     ]
    }
   ],
   "source": [
    "numero = 0\n",
    "while numero <= 10:\n",
    "    print(numero**2)\n",
    "    numero += 1\n"
   ]
  },
  {
   "cell_type": "markdown",
   "metadata": {},
   "source": [
    "3.\tEscriba un programa que lea un número la cantidad de veces que sea necesarias hasta que el usuario digite un número menor a 10."
   ]
  },
  {
   "cell_type": "code",
   "execution_count": null,
   "metadata": {},
   "outputs": [],
   "source": [
    "es_menor_a_10 = False \n",
    "\n",
    "while es_menor_a_10 == False:\n",
    "    numero = int(input('Digite un numero: '))\n",
    "    if numero < 10:\n",
    "        es_menor_a_10 == True\n"
   ]
  },
  {
   "cell_type": "markdown",
   "metadata": {},
   "source": [
    "4.\tImprimir por pantalla todos los múltiplos del 5, entre el rango 1 al 100"
   ]
  },
  {
   "cell_type": "code",
   "execution_count": 17,
   "metadata": {},
   "outputs": [
    {
     "name": "stdout",
     "output_type": "stream",
     "text": [
      "0\n",
      "5\n",
      "10\n",
      "15\n",
      "20\n",
      "25\n",
      "30\n",
      "35\n",
      "40\n",
      "45\n",
      "50\n",
      "55\n",
      "60\n",
      "65\n",
      "70\n",
      "75\n",
      "80\n",
      "85\n",
      "90\n",
      "95\n",
      "100\n"
     ]
    }
   ],
   "source": [
    "es_cien = False\n",
    "multiplos_de_5 = -5\n",
    "\n",
    "while es_cien == False:\n",
    "    multiplos_de_5 += 5\n",
    "\n",
    "    if multiplos_de_5 == 100:\n",
    "        es_cien = True\n",
    "    print(multiplos_de_5)\n",
    "    \n"
   ]
  },
  {
   "cell_type": "markdown",
   "metadata": {},
   "source": [
    "5.\tEscriba un programa que suma los pares y los impares por separado hasta un número pedido por teclado, luego muestre la suma de los pares y la suma de los impares."
   ]
  },
  {
   "cell_type": "code",
   "execution_count": 24,
   "metadata": {},
   "outputs": [
    {
     "name": "stdout",
     "output_type": "stream",
     "text": [
      "Suma pares: 0\n",
      "Suma impares: 1\n",
      "Suma pares: 2\n",
      "Suma impares: 4\n",
      "2\n"
     ]
    },
    {
     "data": {
      "text/plain": [
       "4"
      ]
     },
     "execution_count": 24,
     "metadata": {},
     "output_type": "execute_result"
    }
   ],
   "source": [
    "numero = int(input(\"Digite un numero natural\"))\n",
    "contador = 0\n",
    "suma_pares = 0\n",
    "suma_impares = 0\n",
    "\n",
    "while contador <= numero:\n",
    "\n",
    "    if contador%2 == 0: \n",
    "        suma_pares += contador\n",
    "        print(\"Suma pares: \" + str(suma_pares))\n",
    "    else:\n",
    "        suma_impares += contador\n",
    "        print(\"Suma impares: \" + str(suma_impares))\n",
    "    \n",
    "    contador += 1\n",
    "\n",
    "print(suma_pares)\n",
    "suma_impares\n"
   ]
  },
  {
   "cell_type": "markdown",
   "metadata": {},
   "source": [
    "6.\tEscriba un programa que solicite un número, comprobar si es primo y preguntar si quiere introducir más"
   ]
  },
  {
   "cell_type": "code",
   "execution_count": 49,
   "metadata": {},
   "outputs": [],
   "source": [
    "numero = int(input(\"Digite un numero\"))\n",
    "contador = 2\n",
    "es_compuesto = False\n",
    "\n",
    "while contador <= numero and es_compuesto == False:\n",
    "    #print(\"Entre\")\n",
    "    #print(\"piso\" + str(numero//contador))\n",
    "    if contador == numero:\n",
    "        print(\"Es primo \")\n",
    "\n",
    "    elif numero//contador == numero/contador:\n",
    "        print(\"Es compuesto\")\n",
    "        print(contador)\n",
    "        es_compuesto = True\n",
    "    contador+= 1\n",
    "    "
   ]
  }
 ],
 "metadata": {
  "kernelspec": {
   "display_name": "Python 3.10.2 ('env': venv)",
   "language": "python",
   "name": "python3"
  },
  "language_info": {
   "codemirror_mode": {
    "name": "ipython",
    "version": 3
   },
   "file_extension": ".py",
   "mimetype": "text/x-python",
   "name": "python",
   "nbconvert_exporter": "python",
   "pygments_lexer": "ipython3",
   "version": "3.10.2"
  },
  "orig_nbformat": 4,
  "vscode": {
   "interpreter": {
    "hash": "e3fa28f3007f0577c725f7ed9e5f80e9ae81a6d8cc9c7be24a453619b6dee1b2"
   }
  }
 },
 "nbformat": 4,
 "nbformat_minor": 2
}
