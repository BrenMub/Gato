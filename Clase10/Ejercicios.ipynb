{
 "cells": [
  {
   "cell_type": "markdown",
   "metadata": {},
   "source": [
    "1. Escriba un script de Python para agregar una clave a un diccionario.\n",
    "a. Diccionario: {0: 'pera', 1: 'uva'}\n",
    "b. Agregar: {2: 'fresa'}\n",
    "c. Resultado esperado: {0: 'pera', 1: 'uva', 2: 'fresa'}\n"
   ]
  },
  {
   "cell_type": "code",
   "execution_count": 3,
   "metadata": {},
   "outputs": [
    {
     "name": "stdout",
     "output_type": "stream",
     "text": [
      "{0: 'pera', 1: 'uva', 2: 'fresa'}\n"
     ]
    }
   ],
   "source": [
    "diccionario = {0: 'pera', 1: 'uva'}\n",
    "diccionario[2] = 'fresa'\n",
    "\n",
    "print(diccionario)"
   ]
  },
  {
   "cell_type": "markdown",
   "metadata": {},
   "source": [
    "Escriba un programa de Python para concatenar los siguientes diccionarios para\n",
    "crear uno nuevo.\n",
    "Diccionario de ejemplos :\n",
    "dic1={'make': 'AUDI', 'model': 'Q2 Dsl', 'type': '1.6 TDi Sport'}\n",
    "dic2=\t\t{'fuel': 'Diesel', 'mileage': '19896', 'registration_year': '2017',}\n",
    "dic3=\t\t{'transmission': 'Handbediende versnellingsbak', 'price': 17800}\n",
    "Resultado esperado: {'make': 'AUDI', 'model': 'Q2 Dsl', 'type': '1.6 TDi Sport',\n",
    "'fuel': 'Diesel', 'mileage': '19896', 'registration_year': '2017', 'transmission':\n",
    "'Handbediende versnellingsbak', 'price': 17800}"
   ]
  },
  {
   "cell_type": "code",
   "execution_count": 14,
   "metadata": {},
   "outputs": [
    {
     "name": "stdout",
     "output_type": "stream",
     "text": [
      "{'make': 'AUDI', 'model': 'Q2 Dsl', 'type': '1.6 TDi Sport', 'fuel': 'Diesel', 'mileage': '19896', 'registration_year': '2017'}\n",
      "{'make': 'AUDI', 'model': 'Q2 Dsl', 'type': '1.6 TDi Sport', 'fuel': 'Diesel', 'mileage': '19896', 'registration_year': '2017', 'transmission': 'Handbediende versnellingsbak', 'price': 17800}\n"
     ]
    }
   ],
   "source": [
    "dic1= {'make': 'AUDI', 'model': 'Q2 Dsl', 'type': '1.6 TDi Sport'}\n",
    "dic2={'fuel': 'Diesel', 'mileage': '19896', 'registration_year': '2017',}\n",
    "dic3= {'transmission': 'Handbediende versnellingsbak', 'price': 17800}\n",
    "\n",
    "dic1.update(dic2)\n",
    "#print(dic1)\n",
    "\n",
    "dic1.update(dic3)\n",
    "\n",
    "print(dic1)"
   ]
  },
  {
   "cell_type": "markdown",
   "metadata": {},
   "source": [
    "Escriba un programa en Python para encontrar el valor máximo y mínimo en un\n",
    "set. El set es dado por el usuario"
   ]
  },
  {
   "cell_type": "code",
   "execution_count": 25,
   "metadata": {},
   "outputs": [
    {
     "name": "stdout",
     "output_type": "stream",
     "text": [
      "<class 'set'>\n",
      "1\n",
      "99\n"
     ]
    }
   ],
   "source": [
    "#Falta pedirlo \n",
    "set = {1,2,3,20,99}\n",
    "\n",
    "print(type(set))\n",
    "\n",
    "print(min(set))\n",
    "\n",
    "print(max(set))\n",
    "\n",
    "    "
   ]
  },
  {
   "cell_type": "code",
   "execution_count": 2,
   "metadata": {},
   "outputs": [
    {
     "ename": "KeyboardInterrupt",
     "evalue": "Interrupted by user",
     "output_type": "error",
     "traceback": [
      "\u001b[1;31m---------------------------------------------------------------------------\u001b[0m",
      "\u001b[1;31mKeyboardInterrupt\u001b[0m                         Traceback (most recent call last)",
      "\u001b[1;32mc:\\Users\\HP\\OneDrive\\Escritorio\\LEAD\\Clase10\\Ejercicios.ipynb Cell 7\u001b[0m in \u001b[0;36m<cell line: 2>\u001b[1;34m()\u001b[0m\n\u001b[0;32m      <a href='vscode-notebook-cell:/c%3A/Users/HP/OneDrive/Escritorio/LEAD/Clase10/Ejercicios.ipynb#ch0000006?line=0'>1</a>\u001b[0m string_1\u001b[39m=\u001b[39m \u001b[39minput\u001b[39m(\u001b[39m\"\u001b[39m\u001b[39mDigite una secuencia de numeros separados por coma\u001b[39m\u001b[39m\"\u001b[39m)\n\u001b[1;32m----> <a href='vscode-notebook-cell:/c%3A/Users/HP/OneDrive/Escritorio/LEAD/Clase10/Ejercicios.ipynb#ch0000006?line=1'>2</a>\u001b[0m string_2\u001b[39m=\u001b[39m \u001b[39minput\u001b[39;49m(\u001b[39m\"\u001b[39;49m\u001b[39mDigite una secuencia de numeros separados por coma\u001b[39;49m\u001b[39m\"\u001b[39;49m)\n\u001b[0;32m      <a href='vscode-notebook-cell:/c%3A/Users/HP/OneDrive/Escritorio/LEAD/Clase10/Ejercicios.ipynb#ch0000006?line=3'>4</a>\u001b[0m lista_1 \u001b[39m=\u001b[39m string_1\u001b[39m.\u001b[39msplit(\u001b[39m\"\u001b[39m\u001b[39m;\u001b[39m\u001b[39m\"\u001b[39m)\n\u001b[0;32m      <a href='vscode-notebook-cell:/c%3A/Users/HP/OneDrive/Escritorio/LEAD/Clase10/Ejercicios.ipynb#ch0000006?line=4'>5</a>\u001b[0m lista_2 \u001b[39m=\u001b[39m string_2\u001b[39m.\u001b[39msplit(\u001b[39m\"\u001b[39m\u001b[39m;\u001b[39m\u001b[39m\"\u001b[39m)\n",
      "File \u001b[1;32mc:\\Users\\HP\\OneDrive\\Escritorio\\LEAD\\env\\lib\\site-packages\\ipykernel\\kernelbase.py:1165\u001b[0m, in \u001b[0;36mKernel.raw_input\u001b[1;34m(self, prompt)\u001b[0m\n\u001b[0;32m   1161\u001b[0m \u001b[39mif\u001b[39;00m \u001b[39mnot\u001b[39;00m \u001b[39mself\u001b[39m\u001b[39m.\u001b[39m_allow_stdin:\n\u001b[0;32m   1162\u001b[0m     \u001b[39mraise\u001b[39;00m StdinNotImplementedError(\n\u001b[0;32m   1163\u001b[0m         \u001b[39m\"\u001b[39m\u001b[39mraw_input was called, but this frontend does not support input requests.\u001b[39m\u001b[39m\"\u001b[39m\n\u001b[0;32m   1164\u001b[0m     )\n\u001b[1;32m-> 1165\u001b[0m \u001b[39mreturn\u001b[39;00m \u001b[39mself\u001b[39;49m\u001b[39m.\u001b[39;49m_input_request(\n\u001b[0;32m   1166\u001b[0m     \u001b[39mstr\u001b[39;49m(prompt),\n\u001b[0;32m   1167\u001b[0m     \u001b[39mself\u001b[39;49m\u001b[39m.\u001b[39;49m_parent_ident[\u001b[39m\"\u001b[39;49m\u001b[39mshell\u001b[39;49m\u001b[39m\"\u001b[39;49m],\n\u001b[0;32m   1168\u001b[0m     \u001b[39mself\u001b[39;49m\u001b[39m.\u001b[39;49mget_parent(\u001b[39m\"\u001b[39;49m\u001b[39mshell\u001b[39;49m\u001b[39m\"\u001b[39;49m),\n\u001b[0;32m   1169\u001b[0m     password\u001b[39m=\u001b[39;49m\u001b[39mFalse\u001b[39;49;00m,\n\u001b[0;32m   1170\u001b[0m )\n",
      "File \u001b[1;32mc:\\Users\\HP\\OneDrive\\Escritorio\\LEAD\\env\\lib\\site-packages\\ipykernel\\kernelbase.py:1207\u001b[0m, in \u001b[0;36mKernel._input_request\u001b[1;34m(self, prompt, ident, parent, password)\u001b[0m\n\u001b[0;32m   1204\u001b[0m             \u001b[39mbreak\u001b[39;00m\n\u001b[0;32m   1205\u001b[0m \u001b[39mexcept\u001b[39;00m \u001b[39mKeyboardInterrupt\u001b[39;00m:\n\u001b[0;32m   1206\u001b[0m     \u001b[39m# re-raise KeyboardInterrupt, to truncate traceback\u001b[39;00m\n\u001b[1;32m-> 1207\u001b[0m     \u001b[39mraise\u001b[39;00m \u001b[39mKeyboardInterrupt\u001b[39;00m(\u001b[39m\"\u001b[39m\u001b[39mInterrupted by user\u001b[39m\u001b[39m\"\u001b[39m) \u001b[39mfrom\u001b[39;00m \u001b[39mNone\u001b[39m\n\u001b[0;32m   1208\u001b[0m \u001b[39mexcept\u001b[39;00m \u001b[39mException\u001b[39;00m:\n\u001b[0;32m   1209\u001b[0m     \u001b[39mself\u001b[39m\u001b[39m.\u001b[39mlog\u001b[39m.\u001b[39mwarning(\u001b[39m\"\u001b[39m\u001b[39mInvalid Message:\u001b[39m\u001b[39m\"\u001b[39m, exc_info\u001b[39m=\u001b[39m\u001b[39mTrue\u001b[39;00m)\n",
      "\u001b[1;31mKeyboardInterrupt\u001b[0m: Interrupted by user"
     ]
    }
   ],
   "source": [
    "string_1= input(\"Digite una secuencia de numeros separados por coma\")\n",
    "string_2= input(\"Digite una secuencia de numeros separados por coma\")\n",
    "\n",
    "lista_1 = string_1.split(\";\")\n",
    "lista_2 = string_2.split(\";\")\n",
    "\n",
    "\n",
    "\n",
    "union = set_1.union(set_2)\n",
    "\n",
    "print(union)"
   ]
  },
  {
   "cell_type": "code",
   "execution_count": 1,
   "metadata": {},
   "outputs": [
    {
     "name": "stdout",
     "output_type": "stream",
     "text": [
      "{1, 2, 4, 5, 8}\n"
     ]
    }
   ],
   "source": [
    "set_1 = {1,4,5}\n",
    "set_2 = {2,4,8}\n",
    "union = set_1.union(set_2)\n",
    "\n",
    "print(union)"
   ]
  }
 ],
 "metadata": {
  "kernelspec": {
   "display_name": "Python 3.10.2 ('env': venv)",
   "language": "python",
   "name": "python3"
  },
  "language_info": {
   "codemirror_mode": {
    "name": "ipython",
    "version": 3
   },
   "file_extension": ".py",
   "mimetype": "text/x-python",
   "name": "python",
   "nbconvert_exporter": "python",
   "pygments_lexer": "ipython3",
   "version": "3.10.2"
  },
  "orig_nbformat": 4,
  "vscode": {
   "interpreter": {
    "hash": "e3fa28f3007f0577c725f7ed9e5f80e9ae81a6d8cc9c7be24a453619b6dee1b2"
   }
  }
 },
 "nbformat": 4,
 "nbformat_minor": 2
}
