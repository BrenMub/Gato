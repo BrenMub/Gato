{
 "cells": [
  {
   "cell_type": "code",
   "execution_count": 1,
   "metadata": {},
   "outputs": [
    {
     "name": "stdout",
     "output_type": "stream",
     "text": [
      "0\n",
      "1\n",
      "2\n",
      "3\n"
     ]
    }
   ],
   "source": [
    "numero_1 = int(input('Digite un numero entero: '))\n",
    "contador = 0\n",
    "while contador <= numero_1:\n",
    "    print(contador)\n",
    "    contador += 1"
   ]
  },
  {
   "cell_type": "markdown",
   "metadata": {},
   "source": [
    "Ejercicio 4"
   ]
  },
  {
   "cell_type": "code",
   "execution_count": 2,
   "metadata": {},
   "outputs": [
    {
     "name": "stdout",
     "output_type": "stream",
     "text": [
      "La suma es: 21\n"
     ]
    }
   ],
   "source": [
    "numero_1 = int(input('Digite un numero entero: '))\n",
    "\n",
    "contador = 0\n",
    "suma = 0\n",
    "\n",
    "while contador <= numero_1:\n",
    "    #print(contador)\n",
    "    suma += contador\n",
    "    contador += 1\n",
    "\n",
    "print('La suma es: ' + str(suma))"
   ]
  },
  {
   "cell_type": "markdown",
   "metadata": {},
   "source": [
    "Ejercicio 5"
   ]
  },
  {
   "cell_type": "code",
   "execution_count": 9,
   "metadata": {},
   "outputs": [
    {
     "name": "stdout",
     "output_type": "stream",
     "text": [
      "0\n",
      "2\n",
      "4\n"
     ]
    }
   ],
   "source": [
    "numero_1 = int(input('Digite un numero entero'))\n",
    "\n",
    "contador = 0\n",
    "\n",
    "while contador <= numero_1:\n",
    "    if contador%2 == 0:\n",
    "        print(contador)\n",
    "    contador+=1"
   ]
  },
  {
   "cell_type": "markdown",
   "metadata": {},
   "source": [
    "Ejercicio 6"
   ]
  },
  {
   "cell_type": "code",
   "execution_count": 10,
   "metadata": {},
   "outputs": [
    {
     "name": "stdout",
     "output_type": "stream",
     "text": [
      "3\n",
      "4\n",
      "5\n"
     ]
    }
   ],
   "source": [
    "numero_1 = int(input('Digite el primer numero'))\n",
    "numero_2 = int(input('Digite el segundo numero'))\n",
    "\n",
    "if numero_1 > numero_2:\n",
    "    numero_menor = numero_2\n",
    "    numero_mayor = numero_1\n",
    "else:\n",
    "    numero_menor = numero_1\n",
    "    numero_mayor = numero_2\n",
    "\n",
    "while numero_menor <= numero_mayor:\n",
    "    print(numero_menor)\n",
    "    numero_menor+=1\n",
    "    "
   ]
  },
  {
   "cell_type": "markdown",
   "metadata": {},
   "source": [
    "Ejercicio 7"
   ]
  },
  {
   "cell_type": "code",
   "execution_count": 26,
   "metadata": {},
   "outputs": [
    {
     "name": "stdout",
     "output_type": "stream",
     "text": [
      "12\n"
     ]
    }
   ],
   "source": [
    "numero_1 = int(input('Digite un numero entero'))\n",
    "\n",
    "contador = 0 \n",
    "suma_pares = 0\n",
    "\n",
    "while contador <= numero_1:\n",
    "    #print(contador)\n",
    "    if contador%2 == 0:\n",
    "        suma_pares += contador\n",
    "    contador+=1\n",
    "\n",
    "print(suma_pares)"
   ]
  },
  {
   "cell_type": "markdown",
   "metadata": {},
   "source": [
    "Ejercicio 8"
   ]
  },
  {
   "cell_type": "code",
   "execution_count": 29,
   "metadata": {},
   "outputs": [
    {
     "name": "stdout",
     "output_type": "stream",
     "text": [
      "La cantidad de multiplos de 3 entre 0 y 12 es: 5\n"
     ]
    }
   ],
   "source": [
    "numero_1 = int(input('Digite un numero entero: '))\n",
    "\n",
    "contador = 0\n",
    "cantidad_multiplos_de_3 = 0\n",
    "\n",
    "while contador <= numero_1:\n",
    "    if contador%3 == 0:\n",
    "        cantidad_multiplos_de_3 += 1\n",
    "    contador+= 1\n",
    "\n",
    "print('La cantidad de multiplos de 3 entre 0 y ' + str(numero_1) + ' es: ' + str(cantidad_multiplos_de_3))\n"
   ]
  },
  {
   "cell_type": "markdown",
   "metadata": {},
   "source": [
    "Ejercicio 9"
   ]
  },
  {
   "cell_type": "code",
   "execution_count": 32,
   "metadata": {},
   "outputs": [
    {
     "name": "stdout",
     "output_type": "stream",
     "text": [
      "0\n"
     ]
    }
   ],
   "source": [
    "contador = -1\n",
    "numero = 1\n",
    "\n",
    "while numero != 0:\n",
    "    numero = int(input('Digite un numero'))\n",
    "    contador+= 1 \n",
    "print(contador)"
   ]
  }
 ],
 "metadata": {
  "kernelspec": {
   "display_name": "Python 3.10.2 ('env': venv)",
   "language": "python",
   "name": "python3"
  },
  "language_info": {
   "codemirror_mode": {
    "name": "ipython",
    "version": 3
   },
   "file_extension": ".py",
   "mimetype": "text/x-python",
   "name": "python",
   "nbconvert_exporter": "python",
   "pygments_lexer": "ipython3",
   "version": "3.10.2"
  },
  "orig_nbformat": 4,
  "vscode": {
   "interpreter": {
    "hash": "e3fa28f3007f0577c725f7ed9e5f80e9ae81a6d8cc9c7be24a453619b6dee1b2"
   }
  }
 },
 "nbformat": 4,
 "nbformat_minor": 2
}
