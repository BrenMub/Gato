{
 "cells": [
  {
   "cell_type": "markdown",
   "metadata": {},
   "source": [
    "1. Escriba un programa que muestre los números de -10 a -1 usando for loop"
   ]
  },
  {
   "cell_type": "code",
   "execution_count": null,
   "metadata": {},
   "outputs": [],
   "source": []
  },
  {
   "cell_type": "code",
   "execution_count": 3,
   "metadata": {},
   "outputs": [
    {
     "name": "stdout",
     "output_type": "stream",
     "text": [
      "-10\n",
      "-7\n",
      "-4\n",
      "-1\n"
     ]
    }
   ],
   "source": [
    "for i in range(-10,0,3):\n",
    "    print(i)\n"
   ]
  },
  {
   "cell_type": "markdown",
   "metadata": {},
   "source": [
    "Escriba un programa para contar el número total de dígitos en un número usando un\n",
    "bucle while.\n",
    "a. Por ejemplo, el número es 87967, por lo que la salida debería ser 5.\n",
    "b. Nota: se puede usar el siguiente operador //\n",
    "Ejemplo:\n",
    "a // b\n",
    "División mínima (también llamada división entera) Cociente cuando a se divide por b,\n",
    "redondeado al siguiente número entero más pequeño"
   ]
  },
  {
   "cell_type": "code",
   "execution_count": 27,
   "metadata": {},
   "outputs": [
    {
     "name": "stdout",
     "output_type": "stream",
     "text": [
      "El numero 1024 es: 4\n"
     ]
    }
   ],
   "source": [
    "numero = int(input(\"Digite un numero:  \"))\n",
    "numero_temporal = numero\n",
    "contador = 0\n",
    "while numero_temporal!= 0:\n",
    "    numero_temporal = numero_temporal//10\n",
    "    #print(numero_temporal)\n",
    "    contador += 1\n",
    "\n",
    "print(\"El numero \" + str(numero) + \" es: \" + str(contador))\n"
   ]
  },
  {
   "cell_type": "markdown",
   "metadata": {},
   "source": [
    "Escriba un programa para calcular la suma de series hasta n término. El número base es\n",
    "2.\n",
    "a. Por ejemplo, si n =5 la serie se convertirá en\n",
    "2 + 22 + 222 + 2222 + 22222 = 24690"
   ]
  },
  {
   "cell_type": "code",
   "execution_count": 25,
   "metadata": {},
   "outputs": [
    {
     "name": "stdout",
     "output_type": "stream",
     "text": [
      "24690\n"
     ]
    }
   ],
   "source": [
    "numero = int(input(\"Digite un numero: \"))\n",
    "suma = 0\n",
    "acumulador = 0\n",
    "for i in range(numero):\n",
    "    suma += 2 * 10**i\n",
    "    acumulador += suma\n",
    "\n",
    "print(acumulador)\n",
    "    "
   ]
  },
  {
   "cell_type": "markdown",
   "metadata": {},
   "source": [
    "Imprima los números impares entre 1 y 20 (use while, continue)"
   ]
  },
  {
   "cell_type": "code",
   "execution_count": null,
   "metadata": {},
   "outputs": [],
   "source": []
  }
 ],
 "metadata": {
  "kernelspec": {
   "display_name": "Python 3.10.2 ('env': venv)",
   "language": "python",
   "name": "python3"
  },
  "language_info": {
   "codemirror_mode": {
    "name": "ipython",
    "version": 3
   },
   "file_extension": ".py",
   "mimetype": "text/x-python",
   "name": "python",
   "nbconvert_exporter": "python",
   "pygments_lexer": "ipython3",
   "version": "3.10.2"
  },
  "orig_nbformat": 4,
  "vscode": {
   "interpreter": {
    "hash": "e3fa28f3007f0577c725f7ed9e5f80e9ae81a6d8cc9c7be24a453619b6dee1b2"
   }
  }
 },
 "nbformat": 4,
 "nbformat_minor": 2
}
