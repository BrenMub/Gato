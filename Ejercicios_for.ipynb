{
 "cells": [
  {
   "cell_type": "markdown",
   "metadata": {},
   "source": [
    "Escribir un programa para imprimir la tabla de multiplicar de un número dado. Por\n",
    "ejemplo si un usuario digita 2, va a mostrar la tabla de multiplicar con 2. Ejemplo:\n",
    "2,4,6,8,10…"
   ]
  },
  {
   "cell_type": "code",
   "execution_count": 11,
   "metadata": {},
   "outputs": [
    {
     "name": "stdout",
     "output_type": "stream",
     "text": [
      "0\n",
      "5\n",
      "10\n",
      "15\n",
      "20\n",
      "25\n",
      "30\n",
      "35\n",
      "40\n",
      "45\n",
      "50\n"
     ]
    }
   ],
   "source": [
    "numero = int(input(\"Digite un numero\"))\n",
    "for i in range(0,11):\n",
    "    print(i*numero)"
   ]
  },
  {
   "cell_type": "markdown",
   "metadata": {},
   "source": [
    "Escriba un programa para mostrar solo aquellos números de una lista que satisfagan las\n",
    "siguientes condiciones.\n",
    "a. El número debe ser divisible por cinco.\n",
    "b. Si el número es mayor que 150, sáltelo y pase al siguiente número\n",
    "c. Si el número es mayor que 500, detenga el ciclo"
   ]
  },
  {
   "cell_type": "code",
   "execution_count": 9,
   "metadata": {},
   "outputs": [
    {
     "name": "stdout",
     "output_type": "stream",
     "text": [
      "75\n",
      "150\n",
      "145\n"
     ]
    }
   ],
   "source": [
    "numeros = [12, 75, 150, 180, 145, 525, 50]\n",
    "\n",
    "for i in numeros:\n",
    "    if i > 500:\n",
    "        break\n",
    "    if i > 150:\n",
    "        continue\n",
    "    if i%5 == 0: \n",
    "        print(i)\n",
    "  \n",
    "    \n",
    "    "
   ]
  },
  {
   "cell_type": "markdown",
   "metadata": {},
   "source": [
    "Escriba un programa para imprimir el cubo de todos los números del 1 a un número dado"
   ]
  },
  {
   "cell_type": "code",
   "execution_count": 7,
   "metadata": {},
   "outputs": [
    {
     "name": "stdout",
     "output_type": "stream",
     "text": [
      "1\n",
      "8\n",
      "27\n",
      "64\n",
      "125\n"
     ]
    }
   ],
   "source": [
    "numero = int(input(\"Digite un numero\"))\n",
    "for i in range(1,numero):\n",
    "    print(i**3)"
   ]
  }
 ],
 "metadata": {
  "kernelspec": {
   "display_name": "Python 3.10.2 ('env': venv)",
   "language": "python",
   "name": "python3"
  },
  "language_info": {
   "codemirror_mode": {
    "name": "ipython",
    "version": 3
   },
   "file_extension": ".py",
   "mimetype": "text/x-python",
   "name": "python",
   "nbconvert_exporter": "python",
   "pygments_lexer": "ipython3",
   "version": "3.10.2"
  },
  "orig_nbformat": 4,
  "vscode": {
   "interpreter": {
    "hash": "e3fa28f3007f0577c725f7ed9e5f80e9ae81a6d8cc9c7be24a453619b6dee1b2"
   }
  }
 },
 "nbformat": 4,
 "nbformat_minor": 2
}
